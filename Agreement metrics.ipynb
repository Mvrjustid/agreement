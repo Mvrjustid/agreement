{
 "cells": [
  {
   "cell_type": "code",
   "execution_count": 1,
   "metadata": {},
   "outputs": [],
   "source": [
    "import sys\n",
    "sys.path.append(\"..\")\n"
   ]
  },
  {
   "cell_type": "code",
   "execution_count": null,
   "metadata": {},
   "outputs": [],
   "source": []
  },
  {
   "cell_type": "code",
   "execution_count": 1,
   "metadata": {},
   "outputs": [],
   "source": [
    "import pandas as pd\n",
    "import numpy as np"
   ]
  },
  {
   "cell_type": "code",
   "execution_count": 258,
   "metadata": {},
   "outputs": [],
   "source": [
    "df_raw = pd.DataFrame([\n",
    "    {'item_id': 1, 'user_id': 1, 'output': 'a'},\n",
    "    {'item_id': 2, 'user_id': 1, 'output': 'b'},\n",
    "    {'item_id': 3, 'user_id': 1, 'output': 'c'},\n",
    "    {'item_id': 4, 'user_id': 1, 'output': 'c'},\n",
    "    {'item_id': 5, 'user_id': 1, 'output': 'b'},\n",
    "    {'item_id': 6, 'user_id': 1, 'output': 'a'},\n",
    "    {'item_id': 7, 'user_id': 1, 'output': 'd'},\n",
    "    {'item_id': 8, 'user_id': 1, 'output': 'a'},\n",
    "    {'item_id': 9, 'user_id': 1, 'output': 'b'},\n",
    "    \n",
    "    {'item_id': 1, 'user_id': 2, 'output': 'a'},\n",
    "    {'item_id': 2, 'user_id': 2, 'output': 'b'},\n",
    "    {'item_id': 3, 'user_id': 2, 'output': 'c'},\n",
    "    {'item_id': 4, 'user_id': 2, 'output': 'c'},\n",
    "    {'item_id': 5, 'user_id': 2, 'output': 'b'},\n",
    "    {'item_id': 6, 'user_id': 2, 'output': 'b'},\n",
    "    {'item_id': 7, 'user_id': 2, 'output': 'd'},\n",
    "    {'item_id': 8, 'user_id': 2, 'output': 'a'},\n",
    "    {'item_id': 9, 'user_id': 2, 'output': 'b'},\n",
    "    {'item_id': 10, 'user_id': 2, 'output': 'e'},\n",
    "    \n",
    "    {'item_id': 2, 'user_id': 3, 'output': 'c'},\n",
    "    {'item_id': 3, 'user_id': 3, 'output': 'c'},\n",
    "    {'item_id': 4, 'user_id': 3, 'output': 'c'},\n",
    "    {'item_id': 5, 'user_id': 3, 'output': 'b'},\n",
    "    {'item_id': 6, 'user_id': 3, 'output': 'c'},\n",
    "    {'item_id': 7, 'user_id': 3, 'output': 'd'},\n",
    "    {'item_id': 8, 'user_id': 3, 'output': 'b'},\n",
    "    {'item_id': 9, 'user_id': 3, 'output': 'b'},\n",
    "    {'item_id': 10, 'user_id': 3, 'output': 'e'},\n",
    "    {'item_id': 11, 'user_id': 3, 'output': 'a'},\n",
    "    {'item_id': 12, 'user_id': 3, 'output': 'c'},\n",
    "    \n",
    "    {'item_id': 1, 'user_id': 4, 'output': 'a'},\n",
    "    {'item_id': 2, 'user_id': 4, 'output': 'b'},\n",
    "    {'item_id': 3, 'user_id': 4, 'output': 'c'},\n",
    "    {'item_id': 4, 'user_id': 4, 'output': 'c'},\n",
    "    {'item_id': 5, 'user_id': 4, 'output': 'b'},\n",
    "    {'item_id': 6, 'user_id': 4, 'output': 'd'},\n",
    "    {'item_id': 7, 'user_id': 4, 'output': 'd'},\n",
    "    {'item_id': 8, 'user_id': 4, 'output': 'a'},\n",
    "    {'item_id': 9, 'user_id': 4, 'output': 'b'},\n",
    "    {'item_id': 10, 'user_id': 4, 'output': 'e'},\n",
    "    {'item_id': 11, 'user_id': 4, 'output': 'a'},\n",
    "])"
   ]
  },
  {
   "cell_type": "code",
   "execution_count": 259,
   "metadata": {},
   "outputs": [],
   "source": [
    "data = df_raw.to_numpy()"
   ]
  },
  {
   "cell_type": "code",
   "execution_count": 261,
   "metadata": {},
   "outputs": [],
   "source": [
    "dataset_gwet = np.array([\n",
    "        [1, 1, 'a'],\n",
    "        [2, 1, 'b'],\n",
    "        [3, 1, 'c'],\n",
    "        [4, 1, 'c'],\n",
    "        [5, 1, 'b'],\n",
    "        [6, 1, 'a'],\n",
    "        [7, 1, 'd'],\n",
    "        [8, 1, 'a'],\n",
    "        [9, 1, 'b'],\n",
    "        [1, 2, 'a'],\n",
    "        [2, 2, 'b'],\n",
    "        [3, 2, 'c'],\n",
    "        [4, 2, 'c'],\n",
    "        [5, 2, 'b'],\n",
    "        [6, 2, 'b'],\n",
    "        [7, 2, 'd'],\n",
    "        [8, 2, 'a'],\n",
    "        [9, 2, 'b'],\n",
    "        [10, 2, 'e'],\n",
    "        [2, 3, 'c'],\n",
    "        [3, 3, 'c'],\n",
    "        [4, 3, 'c'],\n",
    "        [5, 3, 'b'],\n",
    "        [6, 3, 'c'],\n",
    "        [7, 3, 'd'],\n",
    "        [8, 3, 'b'],\n",
    "        [9, 3, 'b'],\n",
    "        [10, 3, 'e'],\n",
    "        [11, 3, 'a'],\n",
    "        [12, 3, 'c'],\n",
    "        [1, 4, 'a'],\n",
    "        [2, 4, 'b'],\n",
    "        [3, 4, 'c'],\n",
    "        [4, 4, 'c'],\n",
    "        [5, 4, 'b'],\n",
    "        [6, 4, 'd'],\n",
    "        [7, 4, 'd'],\n",
    "        [8, 4, 'a'],\n",
    "        [9, 4, 'b'],\n",
    "        [10, 4, 'e'],\n",
    "        [11, 4, 'a']\n",
    "    ], dtype=object)\n"
   ]
  },
  {
   "cell_type": "code",
   "execution_count": 265,
   "metadata": {},
   "outputs": [
    {
     "data": {
      "text/plain": [
       "array([[3., 0., 0., 0., 0.],\n",
       "       [0., 3., 1., 0., 0.],\n",
       "       [0., 0., 4., 0., 0.],\n",
       "       [0., 0., 4., 0., 0.],\n",
       "       [0., 4., 0., 0., 0.],\n",
       "       [1., 1., 1., 1., 0.],\n",
       "       [0., 0., 0., 4., 0.],\n",
       "       [3., 1., 0., 0., 0.],\n",
       "       [0., 4., 0., 0., 0.],\n",
       "       [0., 0., 0., 0., 3.],\n",
       "       [2., 0., 0., 0., 0.],\n",
       "       [0., 0., 1., 0., 0.]])"
      ]
     },
     "execution_count": 265,
     "metadata": {},
     "output_type": "execute_result"
    }
   ],
   "source": [
    "pivot_table_frequency(dataset_gwet[:, 0], dataset_gwet[:, 2])"
   ]
  },
  {
   "cell_type": "code",
   "execution_count": 86,
   "metadata": {},
   "outputs": [],
   "source": [
    "columns = np.unique(data[:, 2])"
   ]
  },
  {
   "cell_type": "code",
   "execution_count": 91,
   "metadata": {},
   "outputs": [
    {
     "data": {
      "text/plain": [
       "array([1, 2, 3, 4, 5, 6, 7, 8, 9, 10, 11, 12], dtype=object)"
      ]
     },
     "execution_count": 91,
     "metadata": {},
     "output_type": "execute_result"
    }
   ],
   "source": [
    "rows"
   ]
  },
  {
   "cell_type": "code",
   "execution_count": 88,
   "metadata": {},
   "outputs": [
    {
     "data": {
      "text/plain": [
       "'\\ndfa[1] = 0\\ndf[1] = 0\\n\\ndf = df[[1, 2, 3]]\\ndf.columns = [0, 1, 2]\\n'"
      ]
     },
     "execution_count": 88,
     "metadata": {},
     "output_type": "execute_result"
    }
   ],
   "source": [
    "#df_raw = pd.read_csv('data.csv')\n",
    "\n",
    "_df = df_raw[[\"item_id\", \"output\"]]\n",
    "df = _df.pivot_table(index='item_id', columns=\"output\", aggfunc=len, fill_value=0)\n",
    "\n",
    "_df = df_raw[[\"user_id\", \"output\"]]\n",
    "dfa = _df.pivot_table(index='user_id', columns=\"output\", aggfunc=len, fill_value=0)\n",
    "\n",
    "\"\"\"\n",
    "dfa[1] = 0\n",
    "df[1] = 0\n",
    "\n",
    "df = df[[1, 2, 3]]\n",
    "df.columns = [0, 1, 2]\n",
    "\"\"\"\n"
   ]
  },
  {
   "cell_type": "code",
   "execution_count": 63,
   "metadata": {},
   "outputs": [],
   "source": [
    "N, q = df.shape\n",
    "n = df.sum(axis=1)\n",
    "\n",
    "w = get_weights(q, identity_kernel)\n",
    "\n",
    "r_star = df.dot(w)\n",
    "\n",
    "po = ((df * (r_star-1)).sum(axis=1) / (n * (n-1))).sum()/N"
   ]
  },
  {
   "cell_type": "code",
   "execution_count": 68,
   "metadata": {},
   "outputs": [],
   "source": [
    "data = df.to_numpy()"
   ]
  },
  {
   "cell_type": "code",
   "execution_count": 251,
   "metadata": {},
   "outputs": [],
   "source": [
    "import numpy as np\n",
    "from typing import Tuple\n",
    "\n",
    "def _one_hot(values: np.ndarray, columns: np.ndarray) -> np.ndarray:\n",
    "    _temp = np.zeros((len(values), len(columns)))\n",
    "    _temp[range(len(values)), values] = 1\n",
    "    return _temp\n",
    "\n",
    "\n",
    "def _get_inverted_index(x: np.ndarray, values: np.ndarray) -> Tuple[np.ndarray, np.ndarray]:\n",
    "    cols = values[np.argsort(values)]\n",
    "    return cols, np.searchsorted(cols, x)\n",
    "\n",
    "\n",
    "def pivot_table_frequency(rows: np.ndarray, columns: np.ndarray, values: np.ndarray = None) -> np.ndarray:\n",
    "    \"\"\"\n",
    "    Used to create a pivot table containing a frequency of each column value for each unique row value.\n",
    "    Rows can be treated as keys and columns as values. This function creates an array, where each row\n",
    "    contains a frequency of all possible values for one key.\n",
    "    \n",
    "\n",
    "    :param rows: an array of values that specifies rows of the table\n",
    "    :param columns: an array of values that specifies columns of the table\n",
    "    :return: a pivot table containing frequencies\n",
    "    \"\"\"\n",
    "    rows, row_pos = np.unique(rows, return_inverse=True)\n",
    "    if values is None:\n",
    "        cols, col_pos = np.unique(columns, return_inverse=True)\n",
    "    else:\n",
    "        cols, col_pos = _get_inverted_index(columns, values)\n",
    "    return _one_hot(row_pos, rows).T.dot(_one_hot(col_pos, cols))\n"
   ]
  },
  {
   "cell_type": "code",
   "execution_count": 233,
   "metadata": {},
   "outputs": [
    {
     "data": {
      "text/plain": [
       "array([3, 3, 3, 3, 3, 3, 2, 3, 3, 3, 3, 3, 3, 2, 3, 3, 3, 3, 3, 3, 3, 3,\n",
       "       2, 3, 3, 3, 3, 3, 3, 3, 3, 3, 3, 3, 3, 3, 2, 3, 2, 3, 3, 3, 3, 3,\n",
       "       3, 3, 2, 3, 3, 3, 3, 3, 3, 3, 2, 3, 3, 3, 3, 3, 3, 3, 3, 3, 3, 3,\n",
       "       3, 3, 3, 3, 3, 3, 3, 3, 3, 3, 3, 3, 2, 3, 3, 3, 2, 3, 3, 3, 2, 3,\n",
       "       3, 3, 2, 3, 3, 3, 2, 3])"
      ]
     },
     "execution_count": 233,
     "metadata": {},
     "output_type": "execute_result"
    }
   ],
   "source": [
    "columns"
   ]
  },
  {
   "cell_type": "code",
   "execution_count": 190,
   "metadata": {},
   "outputs": [],
   "source": [
    "df_raw = pd.read_csv('../data.csv')\n",
    "data = df_raw.to_numpy()"
   ]
  },
  {
   "cell_type": "code",
   "execution_count": 205,
   "metadata": {},
   "outputs": [
    {
     "ename": "TypeError",
     "evalue": "pivot_table_frequency() got an unexpected keyword argument 'values'",
     "output_type": "error",
     "traceback": [
      "\u001b[0;31m---------------------------------------------------------------------------\u001b[0m",
      "\u001b[0;31mTypeError\u001b[0m                                 Traceback (most recent call last)",
      "\u001b[0;32m<ipython-input-205-eeecb31df2dc>\u001b[0m in \u001b[0;36m<module>\u001b[0;34m\u001b[0m\n\u001b[0;32m----> 1\u001b[0;31m \u001b[0mpivot_table_frequency\u001b[0m\u001b[0;34m(\u001b[0m\u001b[0mdata\u001b[0m\u001b[0;34m[\u001b[0m\u001b[0;34m:\u001b[0m\u001b[0;34m,\u001b[0m \u001b[0;36m0\u001b[0m\u001b[0;34m]\u001b[0m\u001b[0;34m,\u001b[0m \u001b[0mdata\u001b[0m\u001b[0;34m[\u001b[0m\u001b[0;34m:\u001b[0m\u001b[0;34m,\u001b[0m \u001b[0;36m2\u001b[0m\u001b[0;34m]\u001b[0m\u001b[0;34m,\u001b[0m \u001b[0mvalues\u001b[0m\u001b[0;34m=\u001b[0m\u001b[0mnp\u001b[0m\u001b[0;34m.\u001b[0m\u001b[0marray\u001b[0m\u001b[0;34m(\u001b[0m\u001b[0;34m[\u001b[0m\u001b[0;36m1\u001b[0m\u001b[0;34m,\u001b[0m \u001b[0;36m2\u001b[0m\u001b[0;34m,\u001b[0m \u001b[0;36m3\u001b[0m\u001b[0;34m]\u001b[0m\u001b[0;34m)\u001b[0m\u001b[0;34m)\u001b[0m\u001b[0;34m\u001b[0m\u001b[0;34m\u001b[0m\u001b[0m\n\u001b[0m",
      "\u001b[0;31mTypeError\u001b[0m: pivot_table_frequency() got an unexpected keyword argument 'values'"
     ]
    }
   ],
   "source": [
    "pivot_table_frequency(data[:, 0], data[:, 2], values=np.array([1, 2, 3]))"
   ]
  },
  {
   "cell_type": "code",
   "execution_count": null,
   "metadata": {},
   "outputs": [],
   "source": [
    "questions_answers_distribution = pivot_table_frequency(data[:, 0], data[:, 2])\n",
    "users_answers_distribution = pivot_table_frequency(data[:, 1], data[:, 2])"
   ]
  },
  {
   "cell_type": "code",
   "execution_count": null,
   "metadata": {},
   "outputs": [],
   "source": []
  },
  {
   "cell_type": "code",
   "execution_count": 168,
   "metadata": {},
   "outputs": [],
   "source": [
    "\n",
    "_df = df_raw[[\"item_id\", \"output\"]]"
   ]
  },
  {
   "cell_type": "code",
   "execution_count": 169,
   "metadata": {},
   "outputs": [
    {
     "name": "stdout",
     "output_type": "stream",
     "text": [
      "4.48 ms ± 197 µs per loop (mean ± std. dev. of 7 runs, 100 loops each)\n"
     ]
    }
   ],
   "source": [
    "%%timeit\n",
    "df = _df.pivot_table(index='item_id', columns=\"output\", aggfunc=len, fill_value=0)"
   ]
  },
  {
   "cell_type": "code",
   "execution_count": 170,
   "metadata": {},
   "outputs": [],
   "source": [
    "questions_answers_distribution = pivot_table_frequency(data[:, 0], data[:, 2])\n",
    "users_answers_distribution = pivot_table_frequency(data[:, 1], data[:, 2])"
   ]
  },
  {
   "cell_type": "code",
   "execution_count": 100,
   "metadata": {},
   "outputs": [
    {
     "data": {
      "text/plain": [
       "array([['a', 0, 0, 0, 0],\n",
       "       [0, 'b', 'c', 0, 0],\n",
       "       [0, 0, 'c', 0, 0],\n",
       "       [0, 0, 'c', 0, 0],\n",
       "       [0, 'b', 0, 0, 0],\n",
       "       ['a', 'b', 'c', 'd', 0],\n",
       "       [0, 0, 0, 'd', 0],\n",
       "       ['a', 'b', 0, 0, 0],\n",
       "       [0, 'b', 0, 0, 0],\n",
       "       [0, 0, 0, 0, 'e'],\n",
       "       ['a', 0, 0, 0, 0],\n",
       "       [0, 0, 'c', 0, 0]], dtype=object)"
      ]
     },
     "execution_count": 100,
     "metadata": {},
     "output_type": "execute_result"
    }
   ],
   "source": [
    "\n",
    "pivot_table = np.zeros((len(rows), len(cols)), dtype=data.dtype)\n",
    "pivot_table[row_pos, col_pos] = data[:, 2]\n",
    "\n",
    "pivot_table"
   ]
  },
  {
   "cell_type": "markdown",
   "metadata": {},
   "source": [
    "## Weighting scheme\n",
    "Based on https://github.com/jmgirard/mReliability/wiki/Weighting-scheme"
   ]
  },
  {
   "cell_type": "code",
   "execution_count": 35,
   "metadata": {},
   "outputs": [],
   "source": [
    "def identity_kernel(x, y, q):\n",
    "    return float(x == y)\n",
    "\n",
    "def linear_kernel(x, y, q):\n",
    "    return 1 - abs(x - y) / (q - 1)\n",
    "\n",
    "def quadratic_kernel(x, y, q):\n",
    "    return 1 - (x - y)**2 / (q - 1)**2\n",
    "\n",
    "\n",
    "def get_weights(q, kernel):\n",
    "    return np.array([\n",
    "        [\n",
    "            kernel(x, y, q) for x in range(q)\n",
    "        ] for y in range(q)\n",
    "    ])"
   ]
  },
  {
   "cell_type": "markdown",
   "metadata": {},
   "source": [
    "## Observed agreement\n",
    "Based on https://github.com/jmgirard/mReliability/wiki/Agreement-or-accuracy"
   ]
  },
  {
   "cell_type": "code",
   "execution_count": 36,
   "metadata": {},
   "outputs": [],
   "source": [
    "def observed_agreement(df, weights_kernel=identity_kernel):\n",
    "    N, q = df.shape\n",
    "    n = df.sum(axis=1)\n",
    "    \n",
    "    w = get_weights(q, weights_kernel)\n",
    "    \n",
    "    r_star = df.dot(w)\n",
    "    \n",
    "    po = ((df * (r_star-1)).sum(axis=1) / (n * (n-1))).sum()/N\n",
    "    return po"
   ]
  },
  {
   "cell_type": "code",
   "execution_count": 38,
   "metadata": {},
   "outputs": [
    {
     "data": {
      "text/plain": [
       "0.0"
      ]
     },
     "execution_count": 38,
     "metadata": {},
     "output_type": "execute_result"
    }
   ],
   "source": [
    "observed_agreement(df)"
   ]
  },
  {
   "cell_type": "markdown",
   "metadata": {},
   "source": [
    "## Bennett et al.'s S score\n",
    "Based on https://github.com/jmgirard/mReliability/wiki/Bennett-et-al.'s-S-score"
   ]
  },
  {
   "cell_type": "code",
   "execution_count": 39,
   "metadata": {},
   "outputs": [],
   "source": [
    "def s_score(df, weights_kernel=identity_kernel):\n",
    "    N, q = df.shape\n",
    "    n = df.sum(axis=1)\n",
    "    \n",
    "    w = get_weights(q, weights_kernel)\n",
    "    \n",
    "    r_star = df.dot(w)\n",
    "    \n",
    "    po = ((df * (r_star-1)).sum(axis=1) / (n * (n-1))).sum()/N\n",
    "    \n",
    "    pc = w.sum() / q**2\n",
    "    \n",
    "    S = (po - pc) / (1 - pc)\n",
    "    return S"
   ]
  },
  {
   "cell_type": "code",
   "execution_count": 40,
   "metadata": {},
   "outputs": [
    {
     "data": {
      "text/plain": [
       "-0.25"
      ]
     },
     "execution_count": 40,
     "metadata": {},
     "output_type": "execute_result"
    }
   ],
   "source": [
    "s_score(df)"
   ]
  },
  {
   "cell_type": "code",
   "execution_count": 41,
   "metadata": {},
   "outputs": [],
   "source": [
    "def cohens_kappa(df, dfa, weights_kernel=identity_kernel):\n",
    "    N, q = df.shape\n",
    "    n = df.sum(axis=1)\n",
    "\n",
    "    w = get_weights(q, weights_kernel)\n",
    "\n",
    "    r_star = df.dot(w)\n",
    "\n",
    "    po = ((df * (r_star-1)).sum(axis=1) / (n * (n-1))).sum() / N\n",
    "\n",
    "    p = dfa.div(dfa.sum(axis=1), axis=0)\n",
    "    r, q = p.shape\n",
    "\n",
    "    pbar = p.sum(axis=0) / r\n",
    "\n",
    "    rpbar = r * np.array(pbar).reshape(1, q).T * np.array(pbar).reshape(1, q)\n",
    "    pg = np.array(p).T.dot(np.array(p))\n",
    "    s2 = (pg - rpbar) / (r - 1)\n",
    "\n",
    "    pbarplus = np.array(pbar).reshape(1, q).T * np.array(pbar).reshape(1, q)\n",
    "    pc = (w * (pbarplus - s2/r)).sum()\n",
    "\n",
    "    k = (po - pc) / (1 - pc)\n",
    "    return k"
   ]
  },
  {
   "cell_type": "code",
   "execution_count": 42,
   "metadata": {},
   "outputs": [
    {
     "data": {
      "text/plain": [
       "-0.304504072831816"
      ]
     },
     "execution_count": 42,
     "metadata": {},
     "output_type": "execute_result"
    }
   ],
   "source": [
    "cohens_kappa(df, dfa)"
   ]
  },
  {
   "cell_type": "markdown",
   "metadata": {},
   "source": [
    "## Gwet's gamma coefficient\n",
    "Based on https://github.com/jmgirard/mReliability/wiki/Gwet's-gamma-coefficient"
   ]
  },
  {
   "cell_type": "code",
   "execution_count": 43,
   "metadata": {},
   "outputs": [],
   "source": [
    "def gwets_gamma(df, weights_kernel=identity_kernel):\n",
    "    N, q = df.shape\n",
    "    n = df.sum(axis=1)\n",
    "\n",
    "    w = get_weights(q, weights_kernel)\n",
    "\n",
    "    r_star = df.dot(w)\n",
    "\n",
    "    po = ((df * (r_star-1)).sum(axis=1) / (n * (n-1))).sum() / N\n",
    "\n",
    "    Tw = w.sum()\n",
    "\n",
    "    pi = df.div(df.sum(axis=1), axis=0).sum() / N\n",
    "\n",
    "    pc = (pi*(1 - pi)).values.sum() * Tw / (q*(q-1))\n",
    "\n",
    "    gamma = (po - pc) / (1 - pc)\n",
    "    return gamma"
   ]
  },
  {
   "cell_type": "code",
   "execution_count": 44,
   "metadata": {},
   "outputs": [
    {
     "data": {
      "text/plain": [
       "-0.2370167903162827"
      ]
     },
     "execution_count": 44,
     "metadata": {},
     "output_type": "execute_result"
    }
   ],
   "source": [
    "gwets_gamma(df)"
   ]
  },
  {
   "cell_type": "markdown",
   "metadata": {},
   "source": [
    "## Krippendorff's alpha coefficient\n",
    "Based on https://github.com/jmgirard/mReliability/wiki/Krippendorff's-alpha-coefficient"
   ]
  },
  {
   "cell_type": "code",
   "execution_count": 45,
   "metadata": {},
   "outputs": [],
   "source": [
    "def krippendorffs_alpha(df, weights_kernel=identity_kernel):\n",
    "    N, q = df.shape\n",
    "    n = df.sum(axis=1)\n",
    "\n",
    "    w = get_weights(q, weights_kernel)\n",
    "\n",
    "    r_star = df.dot(w)\n",
    "\n",
    "    po2 = ((df * (r_star-1)).sum(axis=1) / (n * (n-1))).sum()/N\n",
    "    \n",
    "    rdash = df.sum(axis=1).sum() / N\n",
    "\n",
    "    epsilon = 1 / (N*rdash)\n",
    "    po = po2 * (1-epsilon) + epsilon\n",
    "\n",
    "    pi = df.div(df.sum(axis=1), axis=0).sum() / N\n",
    "\n",
    "    pc = (w * np.array(pi).reshape(1, q).T * np.array(pi).reshape(1, q)).sum()\n",
    "\n",
    "    alpha = (po - pc) / (1 - pc)\n",
    "    return alpha"
   ]
  },
  {
   "cell_type": "code",
   "execution_count": 46,
   "metadata": {},
   "outputs": [
    {
     "data": {
      "text/plain": [
       "-0.2729537509543135"
      ]
     },
     "execution_count": 46,
     "metadata": {},
     "output_type": "execute_result"
    }
   ],
   "source": [
    "krippendorffs_alpha(df)"
   ]
  },
  {
   "cell_type": "markdown",
   "metadata": {},
   "source": [
    "## Scott's pi coefficient (Fleiss)\n",
    "based on https://github.com/jmgirard/mReliability/wiki/Scott's-pi-coefficient"
   ]
  },
  {
   "cell_type": "code",
   "execution_count": 47,
   "metadata": {},
   "outputs": [],
   "source": [
    "def scotts_pi(df, weights_kernel=identity_kernel):\n",
    "    N, q = df.shape\n",
    "    n = df.sum(axis=1)\n",
    "\n",
    "    w = get_weights(q, weights_kernel)\n",
    "\n",
    "    r_star = df.dot(w)\n",
    "\n",
    "    po = ((df * (r_star-1)).sum(axis=1) / (n * (n-1))).sum() / N\n",
    "\n",
    "    pik = df.div(df.sum(axis=1), axis=0).sum() / N\n",
    "\n",
    "    pc = (w * np.array(pik).reshape(1, q).T * np.array(pik).reshape(1, q)).sum()\n",
    "\n",
    "    pi = (po - pc) / (1 - pc)\n",
    "    return pi"
   ]
  },
  {
   "cell_type": "code",
   "execution_count": 48,
   "metadata": {},
   "outputs": [
    {
     "data": {
      "text/plain": [
       "-0.30477759472817134"
      ]
     },
     "execution_count": 48,
     "metadata": {},
     "output_type": "execute_result"
    }
   ],
   "source": [
    "scotts_pi(df)"
   ]
  },
  {
   "cell_type": "code",
   "execution_count": null,
   "metadata": {},
   "outputs": [],
   "source": []
  },
  {
   "cell_type": "code",
   "execution_count": null,
   "metadata": {},
   "outputs": [],
   "source": []
  }
 ],
 "metadata": {
  "kernelspec": {
   "display_name": "Python 3",
   "language": "python",
   "name": "python3"
  },
  "language_info": {
   "codemirror_mode": {
    "name": "ipython",
    "version": 3
   },
   "file_extension": ".py",
   "mimetype": "text/x-python",
   "name": "python",
   "nbconvert_exporter": "python",
   "pygments_lexer": "ipython3",
   "version": "3.8.5"
  }
 },
 "nbformat": 4,
 "nbformat_minor": 2
}
