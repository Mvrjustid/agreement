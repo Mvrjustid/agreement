{
 "cells": [
  {
   "cell_type": "code",
   "execution_count": 121,
   "metadata": {
    "collapsed": false,
    "deletable": true,
    "editable": true
   },
   "outputs": [],
   "source": [
    "import pandas as pd\n",
    "import itertools\n",
    "import numpy as np"
   ]
  },
  {
   "cell_type": "markdown",
   "metadata": {},
   "source": [
    "### Implementation based on https://en.wikipedia.org/wiki/Krippendorff's_alpha.\n",
    "\n",
    "Should be fairly quick, almost all computation is done using pandas."
   ]
  },
  {
   "cell_type": "markdown",
   "metadata": {},
   "source": [
    "## Sample data"
   ]
  },
  {
   "cell_type": "code",
   "execution_count": 250,
   "metadata": {
    "collapsed": false,
    "deletable": true,
    "editable": true
   },
   "outputs": [],
   "source": [
    "data = [[None, 1, None],\n",
    "       [None, None, None],\n",
    "       [None, 2, 2],\n",
    "       [None, 1, 1],\n",
    "       [None, 3, 3],\n",
    "       [3, 3, 4],\n",
    "       [4, 4, 4],\n",
    "       [1, 3, None],\n",
    "       [2, None, 2],\n",
    "       [1, None, 1],\n",
    "       [1, None, 1],\n",
    "       [3, None, 3],\n",
    "       [3, None, 3],\n",
    "       [None, None, None],\n",
    "       [3, None, 4]]\n",
    "\n",
    "\n",
    "\n",
    "values = [1, 2, 3, 4]\n",
    "annotators = [\"A\", \"B\", \"C\"]\n"
   ]
  },
  {
   "cell_type": "markdown",
   "metadata": {},
   "source": [
    "## Metrics"
   ]
  },
  {
   "cell_type": "code",
   "execution_count": 246,
   "metadata": {
    "collapsed": false
   },
   "outputs": [],
   "source": [
    "def nominal_metric(a, b):\n",
    "    return a != b\n",
    "\n",
    "def interval_metric(a, b):\n",
    "    return (a-b)**2\n",
    "\n",
    "def ratio_metric(a, b):\n",
    "    a, b = a+1, b+1\n",
    "    return ((a-b)/(a+b))**2\n"
   ]
  },
  {
   "cell_type": "markdown",
   "metadata": {},
   "source": [
    "## Main agreement metric"
   ]
  },
  {
   "cell_type": "code",
   "execution_count": 251,
   "metadata": {
    "collapsed": false
   },
   "outputs": [],
   "source": [
    "def krippendorff_alpha(data, annotators, values, metric=nominal_metric):\n",
    "    R = range(len(values))\n",
    "    C = range(len(code))\n",
    "    \n",
    "    # Replacing values with value indexes\n",
    "    units = pd.DataFrame(data, columns=C)\n",
    "    for value in values:\n",
    "        units = units.replace(value, values.index(value))\n",
    "    # Filtering rows with 0 or 1 annotation\n",
    "    units[\"Total\"] = len(C) - units.isnull().sum(axis=1)\n",
    "    units = units[units[\"Total\"] > 1]\n",
    "\n",
    "    # Computing distance matrix using selected metric\n",
    "    d_metric =  [[float(metric(c, k)) for k in R] for c in R]\n",
    "    d_metric = pd.DataFrame(d_metric)\n",
    "\n",
    "    # All combinations of annotators id, where id1 != id2\n",
    "    C_comb = filter(lambda i:i[0] != i[1], list(itertools.product(C, C)))\n",
    "\n",
    "    # Computing coincidence matrix\n",
    "    ovu = np.zeros((len(R), len(R)))\n",
    "    for v in R:\n",
    "        for u in R:\n",
    "            for i, j in C_filt:\n",
    "                a = (units[i] == v).astype(int)\n",
    "                b = (units[j] == u).astype(int)\n",
    "                ovu[v][u] += ((a * b) / (units[\"Total\"]-1)).sum()\n",
    "\n",
    "    ovu = pd.DataFrame(ovu)\n",
    "    ovu[\"Total\"] = ovu.sum(axis=1)\n",
    "    n = ovu[\"Total\"].sum()\n",
    "\n",
    "    nvnu = [[ovu[\"Total\"][v] * ovu[\"Total\"][u] for u in R] for v in R]\n",
    "    nvnu = pd.DataFrame(nvnu)\n",
    "\n",
    "    De = (nvnu * d_metric).sum().sum() / (n-1)\n",
    "    Do = (ovu[R] * d_metric).sum().sum()\n",
    "    alpha = 1 - Do/De\n",
    "    return alpha"
   ]
  },
  {
   "cell_type": "markdown",
   "metadata": {},
   "source": [
    "## Testing"
   ]
  },
  {
   "cell_type": "code",
   "execution_count": 258,
   "metadata": {
    "collapsed": false
   },
   "outputs": [],
   "source": [
    "assert round(krippendorff_alpha(data, annotators, values, nominal_metric), 4) == 0.6914\n",
    "assert round(krippendorff_alpha(data, annotators, values, interval_metric), 4) == 0.8108"
   ]
  },
  {
   "cell_type": "markdown",
   "metadata": {},
   "source": [
    "## Run on sample data"
   ]
  },
  {
   "cell_type": "code",
   "execution_count": 260,
   "metadata": {
    "collapsed": false
   },
   "outputs": [
    {
     "name": "stdout",
     "output_type": "stream",
     "text": [
      "krippendorff_alpha (nominal_metric) = 0.691358024691\n",
      "krippendorff_alpha (interval_metric) = 0.810844892812\n"
     ]
    }
   ],
   "source": [
    "print \"krippendorff_alpha (nominal_metric) =\", krippendorff_alpha(data, annotators, values, nominal_metric)\n",
    "print \"krippendorff_alpha (interval_metric) =\", krippendorff_alpha(data, annotators, values, interval_metric)"
   ]
  },
  {
   "cell_type": "code",
   "execution_count": null,
   "metadata": {
    "collapsed": true
   },
   "outputs": [],
   "source": []
  }
 ],
 "metadata": {
  "kernelspec": {
   "display_name": "Python 2",
   "language": "python",
   "name": "python2"
  },
  "language_info": {
   "codemirror_mode": {
    "name": "ipython",
    "version": 2
   },
   "file_extension": ".py",
   "mimetype": "text/x-python",
   "name": "python",
   "nbconvert_exporter": "python",
   "pygments_lexer": "ipython2",
   "version": "2.7.12"
  }
 },
 "nbformat": 4,
 "nbformat_minor": 2
}
